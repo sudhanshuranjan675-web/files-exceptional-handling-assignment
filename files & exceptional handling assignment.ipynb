{
 "cells": [
  {
   "cell_type": "code",
   "execution_count": null,
   "id": "9f7b3c24-4f90-4c2d-8972-0f5550620be4",
   "metadata": {},
   "outputs": [],
   "source": [
    "#Q1. What is the difference between interpreted and compiled languages?\n",
    "\n",
    ":-​Interpreted languages are read and executed line by line by an interpreter program. The code is not translated into machine-readable code before runtime. This makes them more flexible and easier to debug, but generally slower. Python, JavaScript, and Ruby are examples.\n",
    " ​Compiled languages are first translated entirely into machine code by a compiler before the program is run. This process is called compilation. The resulting executable file is then run directly by the operating system, which makes them faster and more efficient. C++, C, and Java are examples.\n",
    "\n",
    "#Q2. What is exception handling in Python?\n",
    "     \n",
    ":-​Exception handling is a way to manage and respond to errors that occur during the execution of a program. It allows you to gracefully handle unexpected situations (like trying to divide by zero or accessing a file that doesn't exist) so your program doesn't crash. In Python, this is typically done using try, except, else, and finally blocks.\n",
    "\n",
    "#Q3. What is the purpose of the finally block in exception handling?\n",
    "\n",
    "​The finally block is a part of exception handling that contains code which will always be executed, regardless of whether an exception occurred in the try block or not. It's often used for cleanup actions, such as closing files or releasing system resources, to ensure these tasks are completed even if an error happens.\n",
    "\n",
    "#Q4. What is logging in Python?\n",
    "\n",
    ":-Logging is the process of recording events that occur while a program is running. This information can be used to track the program's behavior, debug issues, and monitor its performance. Python has a built-in logging module that provides a flexible way to send these messages to different destinations like the console, a file, or a network socket.\n",
    "\n",
    "#Q5. What is the significance of the del method in Python?\n",
    "\n",
    ":-The del method, also known as the destructor, is a special method in Python that is called when an object is about to be destroyed or garbage-collected. Its primary purpose is to perform cleanup actions for an object, such as closing a file or network connection, just before its memory is reclaimed.\n",
    "\n",
    "#Q6. What is the difference between import and from...import in Python?\n",
    "\n",
    ":-import loads an entire module. You then need to use the module name to access its functions or variables (e.g., import math then math.sqrt(16)).\n",
    " ​from...import loads specific functions, classes, or variables from a module. You can then use them directly without prefixing them with the module name (e.g., from math import sqrt then sqrt(16)).\n",
    "#Q7. How can you handle multiple exceptions in Python?\n",
    ":-​You can handle multiple exceptions in Python in a couple of ways:\n",
    "  ​Using multiple except blocks, one for each specific exception type.\n",
    "  ​Using a single except block with a tuple of exception types (e.g., except (ValueError, TypeError):).\n",
    "  \n",
    "#Q8 What is the purpose of the with statement when handling files in Python?\n",
    "\n",
    ":-The with statement is used for context management and is the preferred way to handle files. It ensures that a resource (like a file) is properly closed after its use, even if an exception occurs. This makes your code cleaner and more reliable.\n",
    "\n",
    "#Q9 What is the difference between multithreading and multiprocessing?\n",
    "    \n",
    ":-Multithreading involves multiple threads running within a single process, sharing the same memory space. It's best for I/O-bound tasks (e.g., waiting for network requests or user input) because the program can switch to another thread while one is waiting. Python's Global Interpreter Lock (GIL) limits true parallel execution of CPU-bound tasks in multithreading.\n",
    "  Multiprocessing involves multiple processes, each with its own memory space. This allows for true parallel execution on multi-core processors, making it ideal for CPU-bound tasks (e.g., complex calculations).\n",
    "\n",
    "#Q10 What are the advantages of using logging in a program?\n",
    "\n",
    ":-Using logging provides several advantages, including:\n",
    "  Debugging: It helps developers understand how a program is running, pinpoint errors, and track the flow of execution.\n",
    "  Monitoring: It allows you to monitor the application's health and performance in a production environment.\n",
    "  Auditing: It can be used to track user actions or system events for security or compliance.\n",
    "  Separation of concerns: It separates debugging information from the main program logic.\n",
    "\n",
    "#Q11 What is memory management in Python?\n",
    "\n",
    ":-Memory management in Python is a system that handles the allocation and deallocation of memory for objects. Python's memory manager is responsible for creating objects and freeing up memory when they are no longer in use. This is primarily done through a private heap and a garbage collection system.\n",
    "\n",
    "#Q12 What are the basic steps involved in exception handling in Python?\n",
    "\n",
    ":-The basic steps are:\n",
    "  try: A block of code is put inside the try statement. This is the code that might cause an exception.\n",
    "  except: If an exception occurs in the try block, the execution jumps to the except block, which handles the error.\n",
    "  else (optional): This block executes only if the code in the try block completes successfully without any exceptions.\n",
    "  finally (optional): This block always executes, whether an exception occurred or not.\n",
    "\n",
    "#Q13 Why is memory management important?\n",
    "\n",
    ":-Effective memory management is crucial for the performance and stability of a program. It prevents memory leaks (where a program fails to release memory it no longer needs), which can slow down a system or cause a program to crash. It also ensures efficient use of available memory resources.\n",
    "\n",
    "#Q14 What is the role of try and except in exception handling?\n",
    "\n",
    ":-The try block holds the code that might potentially raise an exception. The except block is where you write the code to handle the exception if one is raised in the try block. Together, they form the core structure for robust error management, preventing the program from crashing.\n",
    "\n",
    "\n",
    "#Q15 How does Python's garbage collection system work?\n",
    "\n",
    ":-Python's garbage collection system automatically reclaims memory that is no longer needed. It primarily uses two mechanisms:\n",
    "  Reference Counting: The main mechanism, where each object keeps a count of how many references point to it. When the count drops to zero, the memory for that object is immediately deallocated.\n",
    "  Generational Garbage Collection: A supplementary mechanism that handles reference cycles (where objects reference each other but are no longer accessible by the program). It divides objects into \"generations\" and periodically checks for and cleans up these cycles.\n",
    "\n",
    "#Q16 What is the purpose of the else block in exception handling?\n",
    "\n",
    ":-The else block in a try...except statement is optional. The code inside this block is executed only if the code in the try block runs completely without raising any exceptions. It's useful for placing code that should only run on success, keeping the try block focused on code that might fail.\n",
    "\n",
    "#Q17​What are the common logging levels in Python?\n",
    "\n",
    ":-The common logging levels, in order of severity, are:\n",
    " ​DEBUG: Detailed information, useful for debugging.\n",
    " ​INFO: Confirmation that things are working as expected.\n",
    " ​WARNING: An indication that something unexpected happened, or a potential problem, but the program is still working.\n",
    " ​ERROR: A more serious problem has occurred.\n",
    " ​CRITICAL: A serious error, indicating the program may be unable to continue running.\n",
    "\n",
    "#Q18 What is the difference between os.fork() and multiprocessing in Python?\n",
    "\n",
    ":-os.fork() is a function available on Unix-like systems (not Windows) that creates a new process by duplicating the existing one. The new process (child) is an exact copy of the parent and shares resources until they are modified. It's a low-level, system-specific way to achieve parallelism.\n",
    "  multiprocessing is a high-level, cross-platform module in Python that provides a more convenient and robust way to manage multiple processes. It abstracts away the complexities of os.fork() and works on all major operating systems. It is the recommended approach for multiprocessing in Python.\n",
    "\n",
    "#Q19 What is the importance of closing a file in Python?\n",
    "\n",
    ":-It is crucial to close a file after you are done with it to free up system resources. If a file is not closed, it can lead to resource leaks and may not be accessible to other programs. The with statement is the best way to ensure files are closed automatically.\\\n",
    "\n",
    "#Q20 What is the difference between file.read() and file.readline() in Python?\n",
    "\n",
    ":-file.read() reads the entire contents of the file as a single string.\n",
    "file.readline() reads a single line from the file, up to and including the newline character, and returns it as a string.\n",
    "\n",
    "#Q21 What is the logging module in Python used for?\n",
    "\n",
    ":-The logging module is a powerful and flexible standard library module for creating log messages. It allows you to generate, filter, and output log messages at various levels of severity (DEBUG, INFO, WARNING, etc.) to a variety of destinations, such as the console or a file.\n",
    "\n",
    "#Q22 What is the os module in Python used for?\n",
    "\n",
    ":-The os module provides a way to interact with the operating system. It includes functions for tasks like:\n",
    " ​Navigating the file system (e.g., os.getcwd() to get the current working directory).\n",
    " ​Creating, deleting, and renaming files and directories.\n",
    " ​Interacting with the system environment (e.g., os.environ to access environment variables).\n",
    "\n",
    "#Q23 What are the challenges associated with memory management in Python?\n",
    "\n",
    ":-While Python handles most memory management automatically, challenges can arise:\n",
    " ​Reference cycles: If two or more objects hold references to each other, they can't be garbage collected by reference counting alone, leading to memory leaks. The generational garbage collector helps mitigate this.\n",
    " ​High memory consumption: Python objects can sometimes consume more memory than a similar object in a language like C, which can be a concern for memory-intensive applications.\n",
    " ​Unpredictable garbage collection: The exact timing of when the garbage collector runs is not always predictable, which can be a challenge for real-time systems.\n",
    "\n",
    "#Q24. How do you raise an exception manually in Python?\n",
    "\n",
    ":-​You can raise an exception manually using the raise statement. You simply follow the raise keyword with the exception you want to trigger. You can raise a built-in exception or a custom one you've defined.\n",
    "  ​For example:\n",
    "  raise ValueError(\"Invalid value provided.\")\n",
    "  \n",
    "#Q25. Why is it important to use multithreading in certain applications?\n",
    "\n",
    ":-​Multithreading is important for:\n",
    "  ​Improving responsiveness: It allows a program to remain responsive to a user's actions while a time-consuming background task is running (e.g., downloading a file).\n",
    "  ​Handling I/O-bound tasks: It's very effective for tasks that involve a lot of waiting for external resources, such as network requests, database queries, or user input. While one thread is waiting, another can be actively working, which improves efficiency.\n",
    "  ​Parallel execution in specific cases: While Python's Global Interpreter Lock (GIL) limits true parallelism for CPU-bound tasks, multithreading can still be used to create a perception of parallelism and to manage multiple concurrent tasks more easily."
   ]
  },
  {
   "cell_type": "code",
   "execution_count": 39,
   "id": "35e4581a-915e-4556-93d2-ba0dbad9edf3",
   "metadata": {},
   "outputs": [],
   "source": [
    "#Q1. How can you open a file for writing in Python and write a string to it?\n",
    "\n",
    "with open(\"output.txt\", \"w\") as f:\n",
    "    f.write(\"Hello, Python!\")"
   ]
  },
  {
   "cell_type": "code",
   "execution_count": 2,
   "id": "0b0a00f7-0e78-4dd3-8c8b-7b3ee8017d2e",
   "metadata": {},
   "outputs": [
    {
     "ename": "FileNotFoundError",
     "evalue": "[Errno 2] No such file or directory: 'input.txt'",
     "output_type": "error",
     "traceback": [
      "\u001b[31m---------------------------------------------------------------------------\u001b[39m",
      "\u001b[31mFileNotFoundError\u001b[39m                         Traceback (most recent call last)",
      "\u001b[36mCell\u001b[39m\u001b[36m \u001b[39m\u001b[32mIn[2]\u001b[39m\u001b[32m, line 3\u001b[39m\n\u001b[32m      1\u001b[39m \u001b[38;5;66;03m#Q2. Write a Python program to read the contents of a file and print each line.\u001b[39;00m\n\u001b[32m----> \u001b[39m\u001b[32m3\u001b[39m \u001b[38;5;28;01mwith\u001b[39;00m \u001b[38;5;28;43mopen\u001b[39;49m\u001b[43m(\u001b[49m\u001b[33;43m\"\u001b[39;49m\u001b[33;43minput.txt\u001b[39;49m\u001b[33;43m\"\u001b[39;49m\u001b[43m,\u001b[49m\u001b[43m \u001b[49m\u001b[33;43m\"\u001b[39;49m\u001b[33;43mr\u001b[39;49m\u001b[33;43m\"\u001b[39;49m\u001b[43m)\u001b[49m \u001b[38;5;28;01mas\u001b[39;00m f:\n\u001b[32m      4\u001b[39m     \u001b[38;5;28;01mfor\u001b[39;00m line \u001b[38;5;129;01min\u001b[39;00m f:\n\u001b[32m      5\u001b[39m         \u001b[38;5;28mprint\u001b[39m(line.strip())\n",
      "\u001b[36mFile \u001b[39m\u001b[32m~\\AppData\\Roaming\\Python\\Python313\\site-packages\\IPython\\core\\interactiveshell.py:343\u001b[39m, in \u001b[36m_modified_open\u001b[39m\u001b[34m(file, *args, **kwargs)\u001b[39m\n\u001b[32m    336\u001b[39m \u001b[38;5;28;01mif\u001b[39;00m file \u001b[38;5;129;01min\u001b[39;00m {\u001b[32m0\u001b[39m, \u001b[32m1\u001b[39m, \u001b[32m2\u001b[39m}:\n\u001b[32m    337\u001b[39m     \u001b[38;5;28;01mraise\u001b[39;00m \u001b[38;5;167;01mValueError\u001b[39;00m(\n\u001b[32m    338\u001b[39m         \u001b[33mf\u001b[39m\u001b[33m\"\u001b[39m\u001b[33mIPython won\u001b[39m\u001b[33m'\u001b[39m\u001b[33mt let you open fd=\u001b[39m\u001b[38;5;132;01m{\u001b[39;00mfile\u001b[38;5;132;01m}\u001b[39;00m\u001b[33m by default \u001b[39m\u001b[33m\"\u001b[39m\n\u001b[32m    339\u001b[39m         \u001b[33m\"\u001b[39m\u001b[33mas it is likely to crash IPython. If you know what you are doing, \u001b[39m\u001b[33m\"\u001b[39m\n\u001b[32m    340\u001b[39m         \u001b[33m\"\u001b[39m\u001b[33myou can use builtins\u001b[39m\u001b[33m'\u001b[39m\u001b[33m open.\u001b[39m\u001b[33m\"\u001b[39m\n\u001b[32m    341\u001b[39m     )\n\u001b[32m--> \u001b[39m\u001b[32m343\u001b[39m \u001b[38;5;28;01mreturn\u001b[39;00m \u001b[43mio_open\u001b[49m\u001b[43m(\u001b[49m\u001b[43mfile\u001b[49m\u001b[43m,\u001b[49m\u001b[43m \u001b[49m\u001b[43m*\u001b[49m\u001b[43margs\u001b[49m\u001b[43m,\u001b[49m\u001b[43m \u001b[49m\u001b[43m*\u001b[49m\u001b[43m*\u001b[49m\u001b[43mkwargs\u001b[49m\u001b[43m)\u001b[49m\n",
      "\u001b[31mFileNotFoundError\u001b[39m: [Errno 2] No such file or directory: 'input.txt'"
     ]
    }
   ],
   "source": [
    "#Q2. Write a Python program to read the contents of a file and print each line.\n",
    "\n",
    "with open(\"input.txt\", \"r\") as f:\n",
    "    for line in f:\n",
    "        print(line.strip())\n"
   ]
  },
  {
   "cell_type": "code",
   "execution_count": 22,
   "id": "f7d6da4c-341d-4f4e-9bfe-c756bc79b0df",
   "metadata": {},
   "outputs": [
    {
     "name": "stdout",
     "output_type": "stream",
     "text": [
      "File not found!\n"
     ]
    }
   ],
   "source": [
    "#Q3. How would you handle a case where the file doesn’t exist while trying to open it for reading?\n",
    "\n",
    "try:\n",
    "    with open(\"nofile.txt\", \"r\") as f:\n",
    "        print(f.read())\n",
    "except FileNotFoundError:\n",
    "    print(\"File not found!\")"
   ]
  },
  {
   "cell_type": "code",
   "execution_count": 37,
   "id": "71d7bb3d-92c5-4cb5-993c-0a910ebb6f6c",
   "metadata": {},
   "outputs": [
    {
     "ename": "OSError",
     "evalue": "[Errno 22] Invalid argument: 'file:///C:/Users/hp/Downloads/Chapter%201%20-%20Electric%20Charges%20and%20Fields.pdf\\\\input.tx'",
     "output_type": "error",
     "traceback": [
      "\u001b[31m---------------------------------------------------------------------------\u001b[39m",
      "\u001b[31mOSError\u001b[39m                                   Traceback (most recent call last)",
      "\u001b[36mCell\u001b[39m\u001b[36m \u001b[39m\u001b[32mIn[37]\u001b[39m\u001b[32m, line 3\u001b[39m\n\u001b[32m      1\u001b[39m \u001b[38;5;66;03m#Q4. Write a Python script that reads from one file and writes its content to another file.\u001b[39;00m\n\u001b[32m----> \u001b[39m\u001b[32m3\u001b[39m \u001b[38;5;28;01mwith\u001b[39;00m \u001b[38;5;28;43mopen\u001b[39;49m\u001b[43m(\u001b[49m\u001b[33;43mr\u001b[39;49m\u001b[33;43m\"\u001b[39;49m\u001b[33;43mfile:///C:/Users/hp/Downloads/Chapter\u001b[39;49m\u001b[38;5;132;43;01m%201%\u001b[39;49;00m\u001b[33;43m20-\u001b[39;49m\u001b[38;5;132;43;01m%20E\u001b[39;49;00m\u001b[33;43mlectric\u001b[39;49m\u001b[33;43m%\u001b[39;49m\u001b[33;43m20Charges\u001b[39;49m\u001b[38;5;132;43;01m%20a\u001b[39;49;00m\u001b[33;43mnd\u001b[39;49m\u001b[38;5;132;43;01m%20F\u001b[39;49;00m\u001b[33;43mields.pdf\u001b[39;49m\u001b[33;43m\\\u001b[39;49m\u001b[33;43minput.tx\u001b[39;49m\u001b[33;43m\"\u001b[39;49m\u001b[43m,\u001b[49m\u001b[43m \u001b[49m\u001b[33;43m\"\u001b[39;49m\u001b[33;43mr\u001b[39;49m\u001b[33;43m\"\u001b[39;49m\u001b[43m)\u001b[49m \u001b[38;5;28;01mas\u001b[39;00m src, \u001b[38;5;28mopen\u001b[39m(\u001b[33m\"\u001b[39m\u001b[33moutput.txt\u001b[39m\u001b[33m\"\u001b[39m, \u001b[33m\"\u001b[39m\u001b[33mw\u001b[39m\u001b[33m\"\u001b[39m) \u001b[38;5;28;01mas\u001b[39;00m dst:\n\u001b[32m      4\u001b[39m     dst.write(src.read())\n",
      "\u001b[36mFile \u001b[39m\u001b[32m~\\AppData\\Roaming\\Python\\Python313\\site-packages\\IPython\\core\\interactiveshell.py:343\u001b[39m, in \u001b[36m_modified_open\u001b[39m\u001b[34m(file, *args, **kwargs)\u001b[39m\n\u001b[32m    336\u001b[39m \u001b[38;5;28;01mif\u001b[39;00m file \u001b[38;5;129;01min\u001b[39;00m {\u001b[32m0\u001b[39m, \u001b[32m1\u001b[39m, \u001b[32m2\u001b[39m}:\n\u001b[32m    337\u001b[39m     \u001b[38;5;28;01mraise\u001b[39;00m \u001b[38;5;167;01mValueError\u001b[39;00m(\n\u001b[32m    338\u001b[39m         \u001b[33mf\u001b[39m\u001b[33m\"\u001b[39m\u001b[33mIPython won\u001b[39m\u001b[33m'\u001b[39m\u001b[33mt let you open fd=\u001b[39m\u001b[38;5;132;01m{\u001b[39;00mfile\u001b[38;5;132;01m}\u001b[39;00m\u001b[33m by default \u001b[39m\u001b[33m\"\u001b[39m\n\u001b[32m    339\u001b[39m         \u001b[33m\"\u001b[39m\u001b[33mas it is likely to crash IPython. If you know what you are doing, \u001b[39m\u001b[33m\"\u001b[39m\n\u001b[32m    340\u001b[39m         \u001b[33m\"\u001b[39m\u001b[33myou can use builtins\u001b[39m\u001b[33m'\u001b[39m\u001b[33m open.\u001b[39m\u001b[33m\"\u001b[39m\n\u001b[32m    341\u001b[39m     )\n\u001b[32m--> \u001b[39m\u001b[32m343\u001b[39m \u001b[38;5;28;01mreturn\u001b[39;00m \u001b[43mio_open\u001b[49m\u001b[43m(\u001b[49m\u001b[43mfile\u001b[49m\u001b[43m,\u001b[49m\u001b[43m \u001b[49m\u001b[43m*\u001b[49m\u001b[43margs\u001b[49m\u001b[43m,\u001b[49m\u001b[43m \u001b[49m\u001b[43m*\u001b[49m\u001b[43m*\u001b[49m\u001b[43mkwargs\u001b[49m\u001b[43m)\u001b[49m\n",
      "\u001b[31mOSError\u001b[39m: [Errno 22] Invalid argument: 'file:///C:/Users/hp/Downloads/Chapter%201%20-%20Electric%20Charges%20and%20Fields.pdf\\\\input.tx'"
     ]
    }
   ],
   "source": [
    "#Q4. Write a Python script that reads from one file and writes its content to another file.\n",
    "\n",
    "with open(r\"\", \"r\") as src, open(\"output.txt\", \"w\") as dst:\n",
    "    dst.write(src.read())"
   ]
  },
  {
   "cell_type": "code",
   "execution_count": 24,
   "id": "a8623ca5-d264-45e9-adc2-1823131fbfb5",
   "metadata": {},
   "outputs": [
    {
     "name": "stdout",
     "output_type": "stream",
     "text": [
      "Cannot divide by zero\n"
     ]
    }
   ],
   "source": [
    "#Q5. How would you catch and handle division by zero error in Python?\n",
    "\n",
    "try:\n",
    "    result = 10 / 0\n",
    "except ZeroDivisionError:\n",
    "    print(\"Cannot divide by zero\")"
   ]
  },
  {
   "cell_type": "code",
   "execution_count": 26,
   "id": "6735f0e4-6f04-494e-80d6-9fcfe81a03fa",
   "metadata": {},
   "outputs": [],
   "source": [
    "#Q6. Write a Python program that logs an error message to a log file when division by zero occurs.\n",
    "\n",
    "import logging\n",
    "logging.basicConfig(filename=\"app.log\", level=logging.ERROR)\n",
    "\n",
    "try:\n",
    "    x = 5 / 0\n",
    "except ZeroDivisionError:\n",
    "    logging.error(\"Division by zero error occurred\")"
   ]
  },
  {
   "cell_type": "code",
   "execution_count": 27,
   "id": "3912221c-443e-45ef-b1f8-520f9824e760",
   "metadata": {},
   "outputs": [],
   "source": [
    "#Q7. How do you log information at different levels (INFO, ERROR, WARNING) in Python using the logging module?\n",
    "\n",
    "import logging\n",
    "logging.basicConfig(level=logging.DEBUG)\n",
    "\n",
    "logging.info(\"This is an info message\")\n",
    "logging.warning(\"This is a warning\")\n",
    "logging.error(\"This is an error\")"
   ]
  },
  {
   "cell_type": "code",
   "execution_count": 28,
   "id": "aee2e470-8503-4028-b24c-6a4830883534",
   "metadata": {},
   "outputs": [
    {
     "name": "stdout",
     "output_type": "stream",
     "text": [
      "Error opening file\n"
     ]
    }
   ],
   "source": [
    "#Q8. Write a program to handle a file opening error using exception handling.\n",
    "\n",
    "try:\n",
    "    with open(\"file.txt\", \"r\") as f:\n",
    "        print(f.read())\n",
    "except IOError:\n",
    "    print(\"Error opening file\")"
   ]
  },
  {
   "cell_type": "code",
   "execution_count": 29,
   "id": "cbf06cbb-a50d-4d3d-87ea-976d1a1118c9",
   "metadata": {},
   "outputs": [
    {
     "ename": "FileNotFoundError",
     "evalue": "[Errno 2] No such file or directory: 'input.txt'",
     "output_type": "error",
     "traceback": [
      "\u001b[31m---------------------------------------------------------------------------\u001b[39m",
      "\u001b[31mFileNotFoundError\u001b[39m                         Traceback (most recent call last)",
      "\u001b[36mCell\u001b[39m\u001b[36m \u001b[39m\u001b[32mIn[29]\u001b[39m\u001b[32m, line 3\u001b[39m\n\u001b[32m      1\u001b[39m \u001b[38;5;66;03m#Q9. How can you read a file line by line and store its content in a list in Python?\u001b[39;00m\n\u001b[32m----> \u001b[39m\u001b[32m3\u001b[39m \u001b[38;5;28;01mwith\u001b[39;00m \u001b[38;5;28;43mopen\u001b[39;49m\u001b[43m(\u001b[49m\u001b[33;43m\"\u001b[39;49m\u001b[33;43minput.txt\u001b[39;49m\u001b[33;43m\"\u001b[39;49m\u001b[43m,\u001b[49m\u001b[43m \u001b[49m\u001b[33;43m\"\u001b[39;49m\u001b[33;43mr\u001b[39;49m\u001b[33;43m\"\u001b[39;49m\u001b[43m)\u001b[49m \u001b[38;5;28;01mas\u001b[39;00m f:\n\u001b[32m      4\u001b[39m     lines = f.readlines()\n\u001b[32m      5\u001b[39m \u001b[38;5;28mprint\u001b[39m(lines)\n",
      "\u001b[36mFile \u001b[39m\u001b[32m~\\AppData\\Roaming\\Python\\Python313\\site-packages\\IPython\\core\\interactiveshell.py:343\u001b[39m, in \u001b[36m_modified_open\u001b[39m\u001b[34m(file, *args, **kwargs)\u001b[39m\n\u001b[32m    336\u001b[39m \u001b[38;5;28;01mif\u001b[39;00m file \u001b[38;5;129;01min\u001b[39;00m {\u001b[32m0\u001b[39m, \u001b[32m1\u001b[39m, \u001b[32m2\u001b[39m}:\n\u001b[32m    337\u001b[39m     \u001b[38;5;28;01mraise\u001b[39;00m \u001b[38;5;167;01mValueError\u001b[39;00m(\n\u001b[32m    338\u001b[39m         \u001b[33mf\u001b[39m\u001b[33m\"\u001b[39m\u001b[33mIPython won\u001b[39m\u001b[33m'\u001b[39m\u001b[33mt let you open fd=\u001b[39m\u001b[38;5;132;01m{\u001b[39;00mfile\u001b[38;5;132;01m}\u001b[39;00m\u001b[33m by default \u001b[39m\u001b[33m\"\u001b[39m\n\u001b[32m    339\u001b[39m         \u001b[33m\"\u001b[39m\u001b[33mas it is likely to crash IPython. If you know what you are doing, \u001b[39m\u001b[33m\"\u001b[39m\n\u001b[32m    340\u001b[39m         \u001b[33m\"\u001b[39m\u001b[33myou can use builtins\u001b[39m\u001b[33m'\u001b[39m\u001b[33m open.\u001b[39m\u001b[33m\"\u001b[39m\n\u001b[32m    341\u001b[39m     )\n\u001b[32m--> \u001b[39m\u001b[32m343\u001b[39m \u001b[38;5;28;01mreturn\u001b[39;00m \u001b[43mio_open\u001b[49m\u001b[43m(\u001b[49m\u001b[43mfile\u001b[49m\u001b[43m,\u001b[49m\u001b[43m \u001b[49m\u001b[43m*\u001b[49m\u001b[43margs\u001b[49m\u001b[43m,\u001b[49m\u001b[43m \u001b[49m\u001b[43m*\u001b[49m\u001b[43m*\u001b[49m\u001b[43mkwargs\u001b[49m\u001b[43m)\u001b[49m\n",
      "\u001b[31mFileNotFoundError\u001b[39m: [Errno 2] No such file or directory: 'input.txt'"
     ]
    }
   ],
   "source": [
    "#Q9. How can you read a file line by line and store its content in a list in Python?\n",
    "\n",
    "with open(\"input.txt\", \"r\") as f:\n",
    "    lines = f.readlines()\n",
    "print(lines)"
   ]
  },
  {
   "cell_type": "code",
   "execution_count": 30,
   "id": "e4c24a52-2621-4472-9a3e-2027d3229e3a",
   "metadata": {},
   "outputs": [],
   "source": [
    "#Q10 append data to an existing file in Python?\n",
    "\n",
    "with open(\"output.txt\", \"a\") as f:\n",
    "    f.write(\"\\nNew appended line\")\n"
   ]
  },
  {
   "cell_type": "code",
   "execution_count": 31,
   "id": "da2b4314-8d73-43a5-b564-6dc5fa1c06de",
   "metadata": {},
   "outputs": [
    {
     "name": "stdout",
     "output_type": "stream",
     "text": [
      "Key not found!\n"
     ]
    }
   ],
   "source": [
    "#Q11. Write a Python program that uses try-except block to handle an error when accessing a dictionary key that doesn’t exist.\n",
    "\n",
    "data = {\"name\": \"Alice\"}\n",
    "try:\n",
    "    print(data[\"age\"])\n",
    "except KeyError:\n",
    "    print(\"Key not found!\")"
   ]
  },
  {
   "cell_type": "code",
   "execution_count": 6,
   "id": "db598034-2a7a-42f5-b072-1010247c7eb2",
   "metadata": {},
   "outputs": [
    {
     "name": "stdout",
     "output_type": "stream",
     "text": [
      "Invalid conversion\n"
     ]
    }
   ],
   "source": [
    "#Q 12. Write a program that demonstrates using multiple except blocks to handle different types of exceptions.\n",
    "\n",
    "try:\n",
    "    x = int(\"abc\")\n",
    "    y = 10 / 0\n",
    "except ValueError:\n",
    "    print(\"Invalid conversion\")\n",
    "except ZeroDivisionError:\n",
    "    print(\"Cannot divide by zero\")"
   ]
  },
  {
   "cell_type": "code",
   "execution_count": 5,
   "id": "9ebbd987-fd7b-49f9-87e4-f163d1fe5e77",
   "metadata": {},
   "outputs": [
    {
     "name": "stdout",
     "output_type": "stream",
     "text": [
      "Object `Python` not found.\n",
      "File does not exist\n"
     ]
    }
   ],
   "source": [
    "#Q 13. How would you check if a file exists before attempting to read it in Python?\n",
    "\n",
    "import os\n",
    "\n",
    "if os.path.exists(\"input.txt\"):\n",
    "    with open(\"input.txt\") as f:\n",
    "        print(f.read())\n",
    "else:\n",
    "    print(\"File does not exist\")"
   ]
  },
  {
   "cell_type": "code",
   "execution_count": 8,
   "id": "ba0ead31-5571-4f76-959c-cf8091e9349c",
   "metadata": {},
   "outputs": [],
   "source": [
    "#Q 14. Write a program that uses the logging module to log both informational and error messages.\n",
    "\n",
    "import logging\n",
    "logging.basicConfig(filename=\"log.txt\", level=logging.INFO)\n",
    "\n",
    "logging.info(\"Program started\")\n",
    "try:\n",
    "    10 / 0\n",
    "except ZeroDivisionError:\n",
    "    logging.error(\"Error: Division by zero\")"
   ]
  },
  {
   "cell_type": "code",
   "execution_count": 10,
   "id": "66bcec7d-9259-4f57-b795-2d0eba7aa84b",
   "metadata": {},
   "outputs": [
    {
     "ename": "FileNotFoundError",
     "evalue": "[Errno 2] No such file or directory: 'input.txt'",
     "output_type": "error",
     "traceback": [
      "\u001b[31m---------------------------------------------------------------------------\u001b[39m",
      "\u001b[31mFileNotFoundError\u001b[39m                         Traceback (most recent call last)",
      "\u001b[36mCell\u001b[39m\u001b[36m \u001b[39m\u001b[32mIn[10]\u001b[39m\u001b[32m, line 3\u001b[39m\n\u001b[32m      1\u001b[39m \u001b[38;5;66;03m#Q 15. Write a Python program that prints the content of a file and handles the case when the file is empty.\u001b[39;00m\n\u001b[32m----> \u001b[39m\u001b[32m3\u001b[39m \u001b[38;5;28;01mwith\u001b[39;00m \u001b[38;5;28;43mopen\u001b[39;49m\u001b[43m(\u001b[49m\u001b[33;43m\"\u001b[39;49m\u001b[33;43minput.txt\u001b[39;49m\u001b[33;43m\"\u001b[39;49m\u001b[43m,\u001b[49m\u001b[43m \u001b[49m\u001b[33;43m\"\u001b[39;49m\u001b[33;43mr\u001b[39;49m\u001b[33;43m\"\u001b[39;49m\u001b[43m)\u001b[49m \u001b[38;5;28;01mas\u001b[39;00m f:\n\u001b[32m      4\u001b[39m     content = f.read()\n\u001b[32m      5\u001b[39m     \u001b[38;5;28;01mif\u001b[39;00m content:\n",
      "\u001b[36mFile \u001b[39m\u001b[32m~\\AppData\\Roaming\\Python\\Python313\\site-packages\\IPython\\core\\interactiveshell.py:343\u001b[39m, in \u001b[36m_modified_open\u001b[39m\u001b[34m(file, *args, **kwargs)\u001b[39m\n\u001b[32m    336\u001b[39m \u001b[38;5;28;01mif\u001b[39;00m file \u001b[38;5;129;01min\u001b[39;00m {\u001b[32m0\u001b[39m, \u001b[32m1\u001b[39m, \u001b[32m2\u001b[39m}:\n\u001b[32m    337\u001b[39m     \u001b[38;5;28;01mraise\u001b[39;00m \u001b[38;5;167;01mValueError\u001b[39;00m(\n\u001b[32m    338\u001b[39m         \u001b[33mf\u001b[39m\u001b[33m\"\u001b[39m\u001b[33mIPython won\u001b[39m\u001b[33m'\u001b[39m\u001b[33mt let you open fd=\u001b[39m\u001b[38;5;132;01m{\u001b[39;00mfile\u001b[38;5;132;01m}\u001b[39;00m\u001b[33m by default \u001b[39m\u001b[33m\"\u001b[39m\n\u001b[32m    339\u001b[39m         \u001b[33m\"\u001b[39m\u001b[33mas it is likely to crash IPython. If you know what you are doing, \u001b[39m\u001b[33m\"\u001b[39m\n\u001b[32m    340\u001b[39m         \u001b[33m\"\u001b[39m\u001b[33myou can use builtins\u001b[39m\u001b[33m'\u001b[39m\u001b[33m open.\u001b[39m\u001b[33m\"\u001b[39m\n\u001b[32m    341\u001b[39m     )\n\u001b[32m--> \u001b[39m\u001b[32m343\u001b[39m \u001b[38;5;28;01mreturn\u001b[39;00m \u001b[43mio_open\u001b[49m\u001b[43m(\u001b[49m\u001b[43mfile\u001b[49m\u001b[43m,\u001b[49m\u001b[43m \u001b[49m\u001b[43m*\u001b[49m\u001b[43margs\u001b[49m\u001b[43m,\u001b[49m\u001b[43m \u001b[49m\u001b[43m*\u001b[49m\u001b[43m*\u001b[49m\u001b[43mkwargs\u001b[49m\u001b[43m)\u001b[49m\n",
      "\u001b[31mFileNotFoundError\u001b[39m: [Errno 2] No such file or directory: 'input.txt'"
     ]
    }
   ],
   "source": [
    "#Q 15. Write a Python program that prints the content of a file and handles the case when the file is empty.\n",
    "\n",
    "with open(\"input.txt\", \"r\") as f:\n",
    "    content = f.read()\n",
    "    if content:\n",
    "        print(content)\n",
    "    else:\n",
    "        print(\"File is empty\")"
   ]
  },
  {
   "cell_type": "code",
   "execution_count": 38,
   "id": "c14f3de5-e4ed-4d56-8759-c97993dbabd1",
   "metadata": {},
   "outputs": [
    {
     "ename": "SyntaxError",
     "evalue": "invalid syntax. Perhaps you forgot a comma? (1509378882.py, line 12)",
     "output_type": "error",
     "traceback": [
      "  \u001b[36mCell\u001b[39m\u001b[36m \u001b[39m\u001b[32mIn[38]\u001b[39m\u001b[32m, line 12\u001b[39m\n\u001b[31m    \u001b[39m\u001b[31m(requires pip install memory-profiler),\u001b[39m\n     ^\n\u001b[31mSyntaxError\u001b[39m\u001b[31m:\u001b[39m invalid syntax. Perhaps you forgot a comma?\n"
     ]
    }
   ],
   "source": [
    "#Q 16. Demonstrate how to use memory profiling to check the memory usage of a small program.\n",
    "\n",
    "from memory_profiler import profile\n",
    "\n",
    "@profile\n",
    "def test():\n",
    "    x = [i for i in range(10000)]\n",
    "    return x\n",
    "\n",
    "test()\n",
    "\n",
    "(requires pip install memory-profiler),"
   ]
  },
  {
   "cell_type": "code",
   "execution_count": 13,
   "id": "b9b0a2d4-a2b7-4b07-8c82-d64e890fe529",
   "metadata": {},
   "outputs": [],
   "source": [
    "#Q 17. Write a Python program to create and write a list of numbers to a file, one number per line.\n",
    "\n",
    "numbers = [1, 2, 3, 4, 5]\n",
    "with open(\"numbers.txt\", \"w\") as f:\n",
    "    for n in numbers:\n",
    "        f.write(str(n) + \"\\n\")"
   ]
  },
  {
   "cell_type": "code",
   "execution_count": 14,
   "id": "88110ca1-d39a-41a6-a943-b7ebf6d3b456",
   "metadata": {},
   "outputs": [],
   "source": [
    "#Q18. How would you implement a basic logging setup that logs to a file with rotation after 1MB?\n",
    "\n",
    "import logging\n",
    "from logging.handlers import RotatingFileHandler\n",
    "handler = RotatingFileHandler(\"app.log\", maxBytes=1_000_000, backupCount=3)\n",
    "logging.basicConfig(handlers=[handler], level=logging.INFO)\n",
    "\n",
    "logging.info(\"This is a rotating log test\")\n"
   ]
  },
  {
   "cell_type": "code",
   "execution_count": 15,
   "id": "ee26abf4-348e-4738-b4b5-4af02f4419c4",
   "metadata": {},
   "outputs": [
    {
     "name": "stdout",
     "output_type": "stream",
     "text": [
      "Index out of range\n"
     ]
    }
   ],
   "source": [
    "#Q19. Write a program that handles both IndexError and KeyError using a try-except block.\n",
    "\n",
    "try:\n",
    "    lst = [1, 2, 3]\n",
    "    print(lst[5])  \n",
    "    d = {\"a\": 1}\n",
    "    print(d[\"b\"])  \n",
    "except IndexError:\n",
    "    print(\"Index out of range\")\n",
    "except KeyError:\n",
    "    print(\"Key not found\")"
   ]
  },
  {
   "cell_type": "code",
   "execution_count": 16,
   "id": "f6e7bc77-26d6-46e9-83d9-879a297980ab",
   "metadata": {},
   "outputs": [
    {
     "ename": "FileNotFoundError",
     "evalue": "[Errno 2] No such file or directory: 'input.txt'",
     "output_type": "error",
     "traceback": [
      "\u001b[31m---------------------------------------------------------------------------\u001b[39m",
      "\u001b[31mFileNotFoundError\u001b[39m                         Traceback (most recent call last)",
      "\u001b[36mCell\u001b[39m\u001b[36m \u001b[39m\u001b[32mIn[16]\u001b[39m\u001b[32m, line 3\u001b[39m\n\u001b[32m      1\u001b[39m \u001b[38;5;66;03m#Q 20. How would you open a file and read its contents using a context manager in Python?\u001b[39;00m\n\u001b[32m----> \u001b[39m\u001b[32m3\u001b[39m \u001b[38;5;28;01mwith\u001b[39;00m \u001b[38;5;28;43mopen\u001b[39;49m\u001b[43m(\u001b[49m\u001b[33;43m\"\u001b[39;49m\u001b[33;43minput.txt\u001b[39;49m\u001b[33;43m\"\u001b[39;49m\u001b[43m,\u001b[49m\u001b[43m \u001b[49m\u001b[33;43m\"\u001b[39;49m\u001b[33;43mr\u001b[39;49m\u001b[33;43m\"\u001b[39;49m\u001b[43m)\u001b[49m \u001b[38;5;28;01mas\u001b[39;00m f:\n\u001b[32m      4\u001b[39m     \u001b[38;5;28mprint\u001b[39m(f.read())\n",
      "\u001b[36mFile \u001b[39m\u001b[32m~\\AppData\\Roaming\\Python\\Python313\\site-packages\\IPython\\core\\interactiveshell.py:343\u001b[39m, in \u001b[36m_modified_open\u001b[39m\u001b[34m(file, *args, **kwargs)\u001b[39m\n\u001b[32m    336\u001b[39m \u001b[38;5;28;01mif\u001b[39;00m file \u001b[38;5;129;01min\u001b[39;00m {\u001b[32m0\u001b[39m, \u001b[32m1\u001b[39m, \u001b[32m2\u001b[39m}:\n\u001b[32m    337\u001b[39m     \u001b[38;5;28;01mraise\u001b[39;00m \u001b[38;5;167;01mValueError\u001b[39;00m(\n\u001b[32m    338\u001b[39m         \u001b[33mf\u001b[39m\u001b[33m\"\u001b[39m\u001b[33mIPython won\u001b[39m\u001b[33m'\u001b[39m\u001b[33mt let you open fd=\u001b[39m\u001b[38;5;132;01m{\u001b[39;00mfile\u001b[38;5;132;01m}\u001b[39;00m\u001b[33m by default \u001b[39m\u001b[33m\"\u001b[39m\n\u001b[32m    339\u001b[39m         \u001b[33m\"\u001b[39m\u001b[33mas it is likely to crash IPython. If you know what you are doing, \u001b[39m\u001b[33m\"\u001b[39m\n\u001b[32m    340\u001b[39m         \u001b[33m\"\u001b[39m\u001b[33myou can use builtins\u001b[39m\u001b[33m'\u001b[39m\u001b[33m open.\u001b[39m\u001b[33m\"\u001b[39m\n\u001b[32m    341\u001b[39m     )\n\u001b[32m--> \u001b[39m\u001b[32m343\u001b[39m \u001b[38;5;28;01mreturn\u001b[39;00m \u001b[43mio_open\u001b[49m\u001b[43m(\u001b[49m\u001b[43mfile\u001b[49m\u001b[43m,\u001b[49m\u001b[43m \u001b[49m\u001b[43m*\u001b[49m\u001b[43margs\u001b[49m\u001b[43m,\u001b[49m\u001b[43m \u001b[49m\u001b[43m*\u001b[49m\u001b[43m*\u001b[49m\u001b[43mkwargs\u001b[49m\u001b[43m)\u001b[49m\n",
      "\u001b[31mFileNotFoundError\u001b[39m: [Errno 2] No such file or directory: 'input.txt'"
     ]
    }
   ],
   "source": [
    "#Q 20. How would you open a file and read its contents using a context manager in Python?\n",
    "\n",
    "with open(\"input.txt\", \"r\") as f:\n",
    "    print(f.read())"
   ]
  },
  {
   "cell_type": "code",
   "execution_count": 17,
   "id": "fcda920e-430b-4d8d-b64a-979d1cb0291a",
   "metadata": {},
   "outputs": [
    {
     "ename": "FileNotFoundError",
     "evalue": "[Errno 2] No such file or directory: 'input.txt'",
     "output_type": "error",
     "traceback": [
      "\u001b[31m---------------------------------------------------------------------------\u001b[39m",
      "\u001b[31mFileNotFoundError\u001b[39m                         Traceback (most recent call last)",
      "\u001b[36mCell\u001b[39m\u001b[36m \u001b[39m\u001b[32mIn[17]\u001b[39m\u001b[32m, line 4\u001b[39m\n\u001b[32m      1\u001b[39m \u001b[38;5;66;03m#Q 21. Write a Python program that reads a file and prints the number of occurrences of a specific word.\u001b[39;00m\n\u001b[32m      3\u001b[39m word = \u001b[33m\"\u001b[39m\u001b[33mPython\u001b[39m\u001b[33m\"\u001b[39m\n\u001b[32m----> \u001b[39m\u001b[32m4\u001b[39m \u001b[38;5;28;01mwith\u001b[39;00m \u001b[38;5;28;43mopen\u001b[39;49m\u001b[43m(\u001b[49m\u001b[33;43m\"\u001b[39;49m\u001b[33;43minput.txt\u001b[39;49m\u001b[33;43m\"\u001b[39;49m\u001b[43m,\u001b[49m\u001b[43m \u001b[49m\u001b[33;43m\"\u001b[39;49m\u001b[33;43mr\u001b[39;49m\u001b[33;43m\"\u001b[39;49m\u001b[43m)\u001b[49m \u001b[38;5;28;01mas\u001b[39;00m f:\n\u001b[32m      5\u001b[39m     text = f.read()\n\u001b[32m      6\u001b[39m \u001b[38;5;28mprint\u001b[39m(text.count(word))\n",
      "\u001b[36mFile \u001b[39m\u001b[32m~\\AppData\\Roaming\\Python\\Python313\\site-packages\\IPython\\core\\interactiveshell.py:343\u001b[39m, in \u001b[36m_modified_open\u001b[39m\u001b[34m(file, *args, **kwargs)\u001b[39m\n\u001b[32m    336\u001b[39m \u001b[38;5;28;01mif\u001b[39;00m file \u001b[38;5;129;01min\u001b[39;00m {\u001b[32m0\u001b[39m, \u001b[32m1\u001b[39m, \u001b[32m2\u001b[39m}:\n\u001b[32m    337\u001b[39m     \u001b[38;5;28;01mraise\u001b[39;00m \u001b[38;5;167;01mValueError\u001b[39;00m(\n\u001b[32m    338\u001b[39m         \u001b[33mf\u001b[39m\u001b[33m\"\u001b[39m\u001b[33mIPython won\u001b[39m\u001b[33m'\u001b[39m\u001b[33mt let you open fd=\u001b[39m\u001b[38;5;132;01m{\u001b[39;00mfile\u001b[38;5;132;01m}\u001b[39;00m\u001b[33m by default \u001b[39m\u001b[33m\"\u001b[39m\n\u001b[32m    339\u001b[39m         \u001b[33m\"\u001b[39m\u001b[33mas it is likely to crash IPython. If you know what you are doing, \u001b[39m\u001b[33m\"\u001b[39m\n\u001b[32m    340\u001b[39m         \u001b[33m\"\u001b[39m\u001b[33myou can use builtins\u001b[39m\u001b[33m'\u001b[39m\u001b[33m open.\u001b[39m\u001b[33m\"\u001b[39m\n\u001b[32m    341\u001b[39m     )\n\u001b[32m--> \u001b[39m\u001b[32m343\u001b[39m \u001b[38;5;28;01mreturn\u001b[39;00m \u001b[43mio_open\u001b[49m\u001b[43m(\u001b[49m\u001b[43mfile\u001b[49m\u001b[43m,\u001b[49m\u001b[43m \u001b[49m\u001b[43m*\u001b[49m\u001b[43margs\u001b[49m\u001b[43m,\u001b[49m\u001b[43m \u001b[49m\u001b[43m*\u001b[49m\u001b[43m*\u001b[49m\u001b[43mkwargs\u001b[49m\u001b[43m)\u001b[49m\n",
      "\u001b[31mFileNotFoundError\u001b[39m: [Errno 2] No such file or directory: 'input.txt'"
     ]
    }
   ],
   "source": [
    "#Q 21. Write a Python program that reads a file and prints the number of occurrences of a specific word.\n",
    "\n",
    "word = \"Python\"\n",
    "with open(\"input.txt\", \"r\") as f:\n",
    "    text = f.read()\n",
    "print(text.count(word))"
   ]
  },
  {
   "cell_type": "code",
   "execution_count": 18,
   "id": "57a4841a-1256-403f-8c2b-4484eb762b73",
   "metadata": {},
   "outputs": [
    {
     "ename": "FileNotFoundError",
     "evalue": "[WinError 2] The system cannot find the file specified: 'input.txt'",
     "output_type": "error",
     "traceback": [
      "\u001b[31m---------------------------------------------------------------------------\u001b[39m",
      "\u001b[31mFileNotFoundError\u001b[39m                         Traceback (most recent call last)",
      "\u001b[36mCell\u001b[39m\u001b[36m \u001b[39m\u001b[32mIn[18]\u001b[39m\u001b[32m, line 5\u001b[39m\n\u001b[32m      1\u001b[39m \u001b[38;5;66;03m#Q 22. How can you check if a file is empty before attempting to read its contents?\u001b[39;00m\n\u001b[32m      3\u001b[39m \u001b[38;5;28;01mimport\u001b[39;00m\u001b[38;5;250m \u001b[39m\u001b[34;01mos\u001b[39;00m\n\u001b[32m----> \u001b[39m\u001b[32m5\u001b[39m \u001b[38;5;28;01mif\u001b[39;00m \u001b[43mos\u001b[49m\u001b[43m.\u001b[49m\u001b[43mpath\u001b[49m\u001b[43m.\u001b[49m\u001b[43mgetsize\u001b[49m\u001b[43m(\u001b[49m\u001b[33;43m\"\u001b[39;49m\u001b[33;43minput.txt\u001b[39;49m\u001b[33;43m\"\u001b[39;49m\u001b[43m)\u001b[49m == \u001b[32m0\u001b[39m:\n\u001b[32m      6\u001b[39m     \u001b[38;5;28mprint\u001b[39m(\u001b[33m\"\u001b[39m\u001b[33mFile is empty\u001b[39m\u001b[33m\"\u001b[39m)\n\u001b[32m      7\u001b[39m \u001b[38;5;28;01melse\u001b[39;00m:\n",
      "\u001b[36mFile \u001b[39m\u001b[32m<frozen genericpath>:86\u001b[39m, in \u001b[36mgetsize\u001b[39m\u001b[34m(filename)\u001b[39m\n",
      "\u001b[31mFileNotFoundError\u001b[39m: [WinError 2] The system cannot find the file specified: 'input.txt'"
     ]
    }
   ],
   "source": [
    "#Q 22. How can you check if a file is empty before attempting to read its contents?\n",
    "\n",
    "import os\n",
    "\n",
    "if os.path.getsize(\"input.txt\") == 0:\n",
    "    print(\"File is empty\")\n",
    "else:\n",
    "    with open(\"input.txt\") as f:\n",
    "        print(f.read())"
   ]
  },
  {
   "cell_type": "code",
   "execution_count": 32,
   "id": "57554041-afd0-4d14-8043-dd77543dc196",
   "metadata": {},
   "outputs": [],
   "source": [
    "#Q 23. Write a Python program that writes to a log file when an error occurs during file handling.\n",
    "\n",
    "import logging\n",
    "logging.basicConfig(filename=\"errors.log\", level=logging.ERROR)\n",
    "\n",
    "try:\n",
    "    with open(\"nofile.txt\", \"r\") as f:\n",
    "        print(f.read())\n",
    "except Exception as e:\n",
    "    logging.error(\"Error: %s\", e)"
   ]
  },
  {
   "cell_type": "code",
   "execution_count": null,
   "id": "7662beed-fe61-44d1-bfdf-fd1e30bece16",
   "metadata": {},
   "outputs": [],
   "source": []
  }
 ],
 "metadata": {
  "kernelspec": {
   "display_name": "Python 3 (ipykernel)",
   "language": "python",
   "name": "python3"
  },
  "language_info": {
   "codemirror_mode": {
    "name": "ipython",
    "version": 3
   },
   "file_extension": ".py",
   "mimetype": "text/x-python",
   "name": "python",
   "nbconvert_exporter": "python",
   "pygments_lexer": "ipython3",
   "version": "3.13.5"
  }
 },
 "nbformat": 4,
 "nbformat_minor": 5
}
